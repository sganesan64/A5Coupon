{
 "cells": [
  {
   "cell_type": "code",
   "execution_count": null,
   "id": "b64fbc68-f71e-4fdb-b1b3-e582688a981c",
   "metadata": {},
   "outputs": [],
   "source": [
    "# Required Assignment 5: Will the customer accept the coupon? \n",
    "## Using data from the UCI Machine Learning Repository and was collected via a survey on Amazon Mechanical Turk\n",
    "\n",
    "*** This activity focuses on producing the plots using the above mentioned dataset to support my findings ***"
   ]
  },
  {
   "cell_type": "code",
   "execution_count": null,
   "id": "94d20a30-82c4-4bee-b698-64e60d6f1bfe",
   "metadata": {},
   "outputs": [],
   "source": []
  }
 ],
 "metadata": {
  "kernelspec": {
   "display_name": "Python 3 (ipykernel)",
   "language": "python",
   "name": "python3"
  },
  "language_info": {
   "codemirror_mode": {
    "name": "ipython",
    "version": 3
   },
   "file_extension": ".py",
   "mimetype": "text/x-python",
   "name": "python",
   "nbconvert_exporter": "python",
   "pygments_lexer": "ipython3",
   "version": "3.12.7"
  }
 },
 "nbformat": 4,
 "nbformat_minor": 5
}
