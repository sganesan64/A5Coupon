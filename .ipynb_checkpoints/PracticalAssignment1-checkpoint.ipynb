{
 "cells": [
  {
   "cell_type": "markdown",
   "id": "59c56d59-b6f8-4bdb-bd7c-3843016cc220",
   "metadata": {},
   "source": [
    "# Required Assignment 5: Will the customer accept the coupon? \n",
    "## Using data from the UCI Machine Learning Repository and was collected via a survey on Amazon Mechanical Turk\n",
    "\n",
    "***This activity focuses on producing the plots using the above mentioned dataset to support my findings***"
   ]
  },
  {
   "cell_type": "markdown",
   "id": "da241a1a-6692-442f-86bc-48805898ad2d",
   "metadata": {},
   "source": [
    "### Importing necessary libraries"
   ]
  },
  {
   "cell_type": "code",
   "execution_count": null,
   "id": "9dbf9fe7-6d7d-4a5b-a3dd-ee4e981ad924",
   "metadata": {},
   "outputs": [],
   "source": [
    "import pandas as pd\n",
    "import plotly.express as px\n",
    "import numpy as np\n",
    "import seaborn as sns\n",
    "import matplotlib.pyplot as plt"
   ]
  },
  {
   "cell_type": "markdown",
   "id": "c8b77b6d-accf-43b4-9ea2-2ddde0177eda",
   "metadata": {},
   "source": [
    "### Loading data"
   ]
  },
  {
   "cell_type": "code",
   "execution_count": null,
   "id": "4ebe8f31-ce78-4368-bb17-88b0964fc8a5",
   "metadata": {},
   "outputs": [],
   "source": []
  }
 ],
 "metadata": {
  "kernelspec": {
   "display_name": "Python 3 (ipykernel)",
   "language": "python",
   "name": "python3"
  },
  "language_info": {
   "codemirror_mode": {
    "name": "ipython",
    "version": 3
   },
   "file_extension": ".py",
   "mimetype": "text/x-python",
   "name": "python",
   "nbconvert_exporter": "python",
   "pygments_lexer": "ipython3",
   "version": "3.12.7"
  }
 },
 "nbformat": 4,
 "nbformat_minor": 5
}
