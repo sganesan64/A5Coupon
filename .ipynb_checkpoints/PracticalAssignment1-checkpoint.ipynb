{
 "cells": [
  {
   "cell_type": "markdown",
   "id": "59c56d59-b6f8-4bdb-bd7c-3843016cc220",
   "metadata": {},
   "source": [
    "# Required Assignment 5: Will the customer accept the coupon? \n",
    "## Using data from the UCI Machine Learning Repository and was collected via a survey on Amazon Mechanical Turk\n",
    "\n",
    "***This activity focuses on producing the plots using the above mentioned dataset to support my findings***"
   ]
  },
  {
   "cell_type": "code",
   "execution_count": null,
   "id": "94d20a30-82c4-4bee-b698-64e60d6f1bfe",
   "metadata": {},
   "outputs": [],
   "source": []
  },
  {
   "cell_type": "code",
   "execution_count": null,
   "id": "cc8494ce-f4b8-4013-8d01-d32de2022af8",
   "metadata": {},
   "outputs": [],
   "source": []
  }
 ],
 "metadata": {
  "kernelspec": {
   "display_name": "Python 3 (ipykernel)",
   "language": "python",
   "name": "python3"
  },
  "language_info": {
   "codemirror_mode": {
    "name": "ipython",
    "version": 3
   },
   "file_extension": ".py",
   "mimetype": "text/x-python",
   "name": "python",
   "nbconvert_exporter": "python",
   "pygments_lexer": "ipython3",
   "version": "3.12.7"
  }
 },
 "nbformat": 4,
 "nbformat_minor": 5
}
